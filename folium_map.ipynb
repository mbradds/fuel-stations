{
 "cells": [
  {
   "cell_type": "code",
   "execution_count": 4,
   "metadata": {},
   "outputs": [],
   "source": [
    "import nrel as path\n",
    "import folium\n",
    "from IPython.display import display"
   ]
  },
  {
   "cell_type": "code",
   "execution_count": 5,
   "metadata": {},
   "outputs": [],
   "source": [
    "def route_map(car,start,end):\n",
    "    route = car.shortest_path(start=start,end=end)\n",
    "    \n",
    "    lat,long = 0,0\n",
    "    for stop in route['detailed path']:\n",
    "        for node,detail in stop.items():\n",
    "            lat = lat + detail['latitude']\n",
    "            long = long + detail['longitude']\n",
    "\n",
    "    avg_lat = lat/route['number of stops']\n",
    "    avg_long = long/route['number of stops']\n",
    "\n",
    "    test_lat = abs(avg_lat)\n",
    "    test_long = abs(avg_long)\n",
    "    \n",
    "    def generateBaseMap(default_location=[avg_lat, avg_long], default_zoom_start=4):\n",
    "        base_map = folium.Map(location=default_location, control_scale=True, zoom_start=default_zoom_start)\n",
    "        return (base_map)\n",
    "    \n",
    "    base_map = generateBaseMap()\n",
    "    \n",
    "    for stop in route['detailed path']:\n",
    "        for node,detail in stop.items():\n",
    "            tooltip = 'Node: '+node\\\n",
    "            +' <br> '+'Province: '+detail['province']\\\n",
    "            +' <br> '+'Facility Name: '+detail['station_name']\\\n",
    "            +' <br> '+'Distance from previous node: '+str(round(detail['distance from previous node'],0))\\\n",
    "            +' <br> '+'Cumulative distance: '+str(round(detail['cumulative_distance'],0))\n",
    "            folium.Marker([detail['latitude'],detail['longitude']],tooltip=tooltip).add_to(base_map)\n",
    "    return(base_map)"
   ]
  },
  {
   "cell_type": "code",
   "execution_count": 6,
   "metadata": {},
   "outputs": [
    {
     "ename": "TypeError",
     "evalue": "__init__() got an unexpected keyword argument 'region'",
     "output_type": "error",
     "traceback": [
      "\u001b[0;31m---------------------------------------------------------------------------\u001b[0m",
      "\u001b[0;31mTypeError\u001b[0m                                 Traceback (most recent call last)",
      "\u001b[0;32m/tmp/ipykernel_26353/4113641325.py\u001b[0m in \u001b[0;36m<module>\u001b[0;34m\u001b[0m\n\u001b[0;32m----> 1\u001b[0;31m \u001b[0mcar\u001b[0m \u001b[0;34m=\u001b[0m \u001b[0mpath\u001b[0m\u001b[0;34m.\u001b[0m\u001b[0mVehicleNetwork\u001b[0m\u001b[0;34m(\u001b[0m\u001b[0mvehicle_fuel\u001b[0m \u001b[0;34m=\u001b[0m \u001b[0;34m'ELEC'\u001b[0m\u001b[0;34m,\u001b[0m\u001b[0mvehicle_range\u001b[0m\u001b[0;34m=\u001b[0m\u001b[0;36m250\u001b[0m\u001b[0;34m,\u001b[0m\u001b[0mregion\u001b[0m\u001b[0;34m=\u001b[0m\u001b[0;34m'CA'\u001b[0m\u001b[0;34m)\u001b[0m\u001b[0;34m\u001b[0m\u001b[0;34m\u001b[0m\u001b[0m\n\u001b[0m\u001b[1;32m      2\u001b[0m \u001b[0mroute_map\u001b[0m\u001b[0;34m(\u001b[0m\u001b[0mcar\u001b[0m\u001b[0;34m,\u001b[0m\u001b[0mstart\u001b[0m\u001b[0;34m=\u001b[0m\u001b[0;34m'Edmonton'\u001b[0m\u001b[0;34m,\u001b[0m\u001b[0mend\u001b[0m\u001b[0;34m=\u001b[0m\u001b[0;34m'London'\u001b[0m\u001b[0;34m)\u001b[0m\u001b[0;34m\u001b[0m\u001b[0;34m\u001b[0m\u001b[0m\n",
      "\u001b[0;31mTypeError\u001b[0m: __init__() got an unexpected keyword argument 'region'"
     ]
    }
   ],
   "source": [
    "car = path.VehicleNetwork(vehicle_fuel = 'ELEC',vehicle_range=250,region='CA')\n",
    "route_map(car,start='Edmonton',end='London')"
   ]
  },
  {
   "cell_type": "code",
   "execution_count": null,
   "metadata": {},
   "outputs": [],
   "source": []
  }
 ],
 "metadata": {
  "kernelspec": {
   "display_name": "Python 3 (ipykernel)",
   "language": "python",
   "name": "python3"
  },
  "language_info": {
   "codemirror_mode": {
    "name": "ipython",
    "version": 3
   },
   "file_extension": ".py",
   "mimetype": "text/x-python",
   "name": "python",
   "nbconvert_exporter": "python",
   "pygments_lexer": "ipython3",
   "version": "3.9.7"
  }
 },
 "nbformat": 4,
 "nbformat_minor": 2
}
